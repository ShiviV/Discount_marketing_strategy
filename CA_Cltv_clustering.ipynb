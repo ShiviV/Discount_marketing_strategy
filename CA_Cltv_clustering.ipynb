{
 "cells": [
  {
   "cell_type": "code",
   "execution_count": 1,
   "metadata": {},
   "outputs": [],
   "source": [
    "import pandas as pd\n",
    "from sklearn.model_selection import train_test_split\n",
    "from sklearn.linear_model import LogisticRegression\n",
    "from sklearn.model_selection import KFold\n",
    "from sklearn.model_selection import cross_val_score\n",
    "import numpy as np\n",
    "from matplotlib import pyplot as plt\n",
    "from sklearn.cluster import KMeans\n",
    "from sklearn.preprocessing import MinMaxScaler"
   ]
  },
  {
   "cell_type": "code",
   "execution_count": 2,
   "metadata": {},
   "outputs": [],
   "source": [
    "data=pd.read_csv(\"cltv1_5_10-10.csv\")"
   ]
  },
  {
   "cell_type": "code",
   "execution_count": 3,
   "metadata": {},
   "outputs": [
    {
     "data": {
      "text/html": [
       "<div>\n",
       "<style scoped>\n",
       "    .dataframe tbody tr th:only-of-type {\n",
       "        vertical-align: middle;\n",
       "    }\n",
       "\n",
       "    .dataframe tbody tr th {\n",
       "        vertical-align: top;\n",
       "    }\n",
       "\n",
       "    .dataframe thead th {\n",
       "        text-align: right;\n",
       "    }\n",
       "</style>\n",
       "<table border=\"1\" class=\"dataframe\">\n",
       "  <thead>\n",
       "    <tr style=\"text-align: right;\">\n",
       "      <th></th>\n",
       "      <th>num_days</th>\n",
       "      <th>num_transactions</th>\n",
       "      <th>num_units</th>\n",
       "      <th>spent_money</th>\n",
       "      <th>avg_order_value</th>\n",
       "      <th>profit_margin</th>\n",
       "      <th>CLV1</th>\n",
       "      <th>cust_lifetime_value1</th>\n",
       "      <th>CLV5</th>\n",
       "      <th>cust_lifetime_value5</th>\n",
       "      <th>CLV10</th>\n",
       "      <th>cust_lifetime_value10</th>\n",
       "      <th>Unnamed: 12</th>\n",
       "      <th>CLV1.1</th>\n",
       "      <th>CLV5.1</th>\n",
       "      <th>CLV10.1</th>\n",
       "    </tr>\n",
       "  </thead>\n",
       "  <tbody>\n",
       "    <tr>\n",
       "      <th>0</th>\n",
       "      <td>693</td>\n",
       "      <td>849</td>\n",
       "      <td>1010</td>\n",
       "      <td>30584.43638</td>\n",
       "      <td>36.024071</td>\n",
       "      <td>3058.443638</td>\n",
       "      <td>23877.33272</td>\n",
       "      <td>73027476.36</td>\n",
       "      <td>4775.466545</td>\n",
       "      <td>1.460550e+07</td>\n",
       "      <td>2387.733272</td>\n",
       "      <td>7302747.636</td>\n",
       "      <td>NaN</td>\n",
       "      <td>23877.33272</td>\n",
       "      <td>4775.466545</td>\n",
       "      <td>2387.733272</td>\n",
       "    </tr>\n",
       "    <tr>\n",
       "      <th>1</th>\n",
       "      <td>576</td>\n",
       "      <td>292</td>\n",
       "      <td>336</td>\n",
       "      <td>11638.26084</td>\n",
       "      <td>39.857058</td>\n",
       "      <td>1163.826084</td>\n",
       "      <td>26417.89776</td>\n",
       "      <td>30745838.50</td>\n",
       "      <td>5283.579552</td>\n",
       "      <td>6.149168e+06</td>\n",
       "      <td>2641.789776</td>\n",
       "      <td>3074583.850</td>\n",
       "      <td>NaN</td>\n",
       "      <td>26417.89776</td>\n",
       "      <td>5283.579552</td>\n",
       "      <td>2641.789776</td>\n",
       "    </tr>\n",
       "    <tr>\n",
       "      <th>2</th>\n",
       "      <td>667</td>\n",
       "      <td>624</td>\n",
       "      <td>1107</td>\n",
       "      <td>26139.02573</td>\n",
       "      <td>41.889464</td>\n",
       "      <td>2613.902573</td>\n",
       "      <td>27765.00951</td>\n",
       "      <td>72575029.81</td>\n",
       "      <td>5553.001902</td>\n",
       "      <td>1.451501e+07</td>\n",
       "      <td>2776.500951</td>\n",
       "      <td>7257502.981</td>\n",
       "      <td>NaN</td>\n",
       "      <td>27765.00951</td>\n",
       "      <td>5553.001902</td>\n",
       "      <td>2776.500951</td>\n",
       "    </tr>\n",
       "    <tr>\n",
       "      <th>3</th>\n",
       "      <td>413</td>\n",
       "      <td>210</td>\n",
       "      <td>269</td>\n",
       "      <td>11527.10832</td>\n",
       "      <td>54.890992</td>\n",
       "      <td>1152.710832</td>\n",
       "      <td>36382.63080</td>\n",
       "      <td>41938652.60</td>\n",
       "      <td>7276.526159</td>\n",
       "      <td>8.387731e+06</td>\n",
       "      <td>3638.263080</td>\n",
       "      <td>4193865.260</td>\n",
       "      <td>NaN</td>\n",
       "      <td>36382.63080</td>\n",
       "      <td>7276.526159</td>\n",
       "      <td>3638.263080</td>\n",
       "    </tr>\n",
       "    <tr>\n",
       "      <th>4</th>\n",
       "      <td>695</td>\n",
       "      <td>650</td>\n",
       "      <td>876</td>\n",
       "      <td>28095.09950</td>\n",
       "      <td>43.223230</td>\n",
       "      <td>2809.509950</td>\n",
       "      <td>28649.05082</td>\n",
       "      <td>80489793.35</td>\n",
       "      <td>5729.810164</td>\n",
       "      <td>1.609796e+07</td>\n",
       "      <td>2864.905082</td>\n",
       "      <td>8048979.335</td>\n",
       "      <td>NaN</td>\n",
       "      <td>28649.05082</td>\n",
       "      <td>5729.810164</td>\n",
       "      <td>2864.905082</td>\n",
       "    </tr>\n",
       "  </tbody>\n",
       "</table>\n",
       "</div>"
      ],
      "text/plain": [
       "   num_days  num_transactions  num_units  spent_money  avg_order_value  \\\n",
       "0       693               849       1010  30584.43638        36.024071   \n",
       "1       576               292        336  11638.26084        39.857058   \n",
       "2       667               624       1107  26139.02573        41.889464   \n",
       "3       413               210        269  11527.10832        54.890992   \n",
       "4       695               650        876  28095.09950        43.223230   \n",
       "\n",
       "   profit_margin         CLV1  cust_lifetime_value1         CLV5  \\\n",
       "0    3058.443638  23877.33272           73027476.36  4775.466545   \n",
       "1    1163.826084  26417.89776           30745838.50  5283.579552   \n",
       "2    2613.902573  27765.00951           72575029.81  5553.001902   \n",
       "3    1152.710832  36382.63080           41938652.60  7276.526159   \n",
       "4    2809.509950  28649.05082           80489793.35  5729.810164   \n",
       "\n",
       "   cust_lifetime_value5        CLV10  cust_lifetime_value10  Unnamed: 12  \\\n",
       "0          1.460550e+07  2387.733272            7302747.636          NaN   \n",
       "1          6.149168e+06  2641.789776            3074583.850          NaN   \n",
       "2          1.451501e+07  2776.500951            7257502.981          NaN   \n",
       "3          8.387731e+06  3638.263080            4193865.260          NaN   \n",
       "4          1.609796e+07  2864.905082            8048979.335          NaN   \n",
       "\n",
       "        CLV1.1       CLV5.1      CLV10.1  \n",
       "0  23877.33272  4775.466545  2387.733272  \n",
       "1  26417.89776  5283.579552  2641.789776  \n",
       "2  27765.00951  5553.001902  2776.500951  \n",
       "3  36382.63080  7276.526159  3638.263080  \n",
       "4  28649.05082  5729.810164  2864.905082  "
      ]
     },
     "execution_count": 3,
     "metadata": {},
     "output_type": "execute_result"
    }
   ],
   "source": [
    "data.head()"
   ]
  },
  {
   "cell_type": "code",
   "execution_count": 7,
   "metadata": {},
   "outputs": [
    {
     "data": {
      "text/plain": [
       "KMeans(n_clusters=5)"
      ]
     },
     "execution_count": 7,
     "metadata": {},
     "output_type": "execute_result"
    }
   ],
   "source": [
    "km=KMeans(n_clusters=5)\n",
    "km"
   ]
  },
  {
   "cell_type": "code",
   "execution_count": 8,
   "metadata": {},
   "outputs": [],
   "source": [
    "Y_pred=km.fit_predict(data[['CLV5']])#List of list hence double bracket"
   ]
  },
  {
   "cell_type": "code",
   "execution_count": 9,
   "metadata": {},
   "outputs": [
    {
     "data": {
      "text/plain": [
       "array([0, 4, 4, ..., 4, 4, 2])"
      ]
     },
     "execution_count": 9,
     "metadata": {},
     "output_type": "execute_result"
    }
   ],
   "source": [
    "Y_pred"
   ]
  },
  {
   "cell_type": "code",
   "execution_count": 10,
   "metadata": {},
   "outputs": [],
   "source": [
    "data['cluster']=Y_pred"
   ]
  },
  {
   "cell_type": "code",
   "execution_count": 11,
   "metadata": {},
   "outputs": [
    {
     "data": {
      "text/html": [
       "<div>\n",
       "<style scoped>\n",
       "    .dataframe tbody tr th:only-of-type {\n",
       "        vertical-align: middle;\n",
       "    }\n",
       "\n",
       "    .dataframe tbody tr th {\n",
       "        vertical-align: top;\n",
       "    }\n",
       "\n",
       "    .dataframe thead th {\n",
       "        text-align: right;\n",
       "    }\n",
       "</style>\n",
       "<table border=\"1\" class=\"dataframe\">\n",
       "  <thead>\n",
       "    <tr style=\"text-align: right;\">\n",
       "      <th></th>\n",
       "      <th>num_days</th>\n",
       "      <th>num_transactions</th>\n",
       "      <th>num_units</th>\n",
       "      <th>spent_money</th>\n",
       "      <th>avg_order_value</th>\n",
       "      <th>profit_margin</th>\n",
       "      <th>CLV1</th>\n",
       "      <th>cust_lifetime_value1</th>\n",
       "      <th>CLV5</th>\n",
       "      <th>cust_lifetime_value5</th>\n",
       "      <th>CLV10</th>\n",
       "      <th>cust_lifetime_value10</th>\n",
       "      <th>Unnamed: 12</th>\n",
       "      <th>CLV1.1</th>\n",
       "      <th>CLV5.1</th>\n",
       "      <th>CLV10.1</th>\n",
       "      <th>cluster</th>\n",
       "    </tr>\n",
       "  </thead>\n",
       "  <tbody>\n",
       "    <tr>\n",
       "      <th>0</th>\n",
       "      <td>693</td>\n",
       "      <td>849</td>\n",
       "      <td>1010</td>\n",
       "      <td>30584.43638</td>\n",
       "      <td>36.024071</td>\n",
       "      <td>3058.443638</td>\n",
       "      <td>23877.33272</td>\n",
       "      <td>7.302748e+07</td>\n",
       "      <td>4775.466545</td>\n",
       "      <td>1.460550e+07</td>\n",
       "      <td>2387.733272</td>\n",
       "      <td>7.302748e+06</td>\n",
       "      <td>NaN</td>\n",
       "      <td>23877.33272</td>\n",
       "      <td>4775.466545</td>\n",
       "      <td>2387.733272</td>\n",
       "      <td>0</td>\n",
       "    </tr>\n",
       "    <tr>\n",
       "      <th>1</th>\n",
       "      <td>576</td>\n",
       "      <td>292</td>\n",
       "      <td>336</td>\n",
       "      <td>11638.26084</td>\n",
       "      <td>39.857058</td>\n",
       "      <td>1163.826084</td>\n",
       "      <td>26417.89776</td>\n",
       "      <td>3.074584e+07</td>\n",
       "      <td>5283.579552</td>\n",
       "      <td>6.149168e+06</td>\n",
       "      <td>2641.789776</td>\n",
       "      <td>3.074584e+06</td>\n",
       "      <td>NaN</td>\n",
       "      <td>26417.89776</td>\n",
       "      <td>5283.579552</td>\n",
       "      <td>2641.789776</td>\n",
       "      <td>4</td>\n",
       "    </tr>\n",
       "    <tr>\n",
       "      <th>2</th>\n",
       "      <td>667</td>\n",
       "      <td>624</td>\n",
       "      <td>1107</td>\n",
       "      <td>26139.02573</td>\n",
       "      <td>41.889464</td>\n",
       "      <td>2613.902573</td>\n",
       "      <td>27765.00951</td>\n",
       "      <td>7.257503e+07</td>\n",
       "      <td>5553.001902</td>\n",
       "      <td>1.451501e+07</td>\n",
       "      <td>2776.500951</td>\n",
       "      <td>7.257503e+06</td>\n",
       "      <td>NaN</td>\n",
       "      <td>27765.00951</td>\n",
       "      <td>5553.001902</td>\n",
       "      <td>2776.500951</td>\n",
       "      <td>4</td>\n",
       "    </tr>\n",
       "    <tr>\n",
       "      <th>3</th>\n",
       "      <td>413</td>\n",
       "      <td>210</td>\n",
       "      <td>269</td>\n",
       "      <td>11527.10832</td>\n",
       "      <td>54.890992</td>\n",
       "      <td>1152.710832</td>\n",
       "      <td>36382.63080</td>\n",
       "      <td>4.193865e+07</td>\n",
       "      <td>7276.526159</td>\n",
       "      <td>8.387731e+06</td>\n",
       "      <td>3638.263080</td>\n",
       "      <td>4.193865e+06</td>\n",
       "      <td>NaN</td>\n",
       "      <td>36382.63080</td>\n",
       "      <td>7276.526159</td>\n",
       "      <td>3638.263080</td>\n",
       "      <td>2</td>\n",
       "    </tr>\n",
       "    <tr>\n",
       "      <th>4</th>\n",
       "      <td>695</td>\n",
       "      <td>650</td>\n",
       "      <td>876</td>\n",
       "      <td>28095.09950</td>\n",
       "      <td>43.223230</td>\n",
       "      <td>2809.509950</td>\n",
       "      <td>28649.05082</td>\n",
       "      <td>8.048979e+07</td>\n",
       "      <td>5729.810164</td>\n",
       "      <td>1.609796e+07</td>\n",
       "      <td>2864.905082</td>\n",
       "      <td>8.048979e+06</td>\n",
       "      <td>NaN</td>\n",
       "      <td>28649.05082</td>\n",
       "      <td>5729.810164</td>\n",
       "      <td>2864.905082</td>\n",
       "      <td>4</td>\n",
       "    </tr>\n",
       "    <tr>\n",
       "      <th>...</th>\n",
       "      <td>...</td>\n",
       "      <td>...</td>\n",
       "      <td>...</td>\n",
       "      <td>...</td>\n",
       "      <td>...</td>\n",
       "      <td>...</td>\n",
       "      <td>...</td>\n",
       "      <td>...</td>\n",
       "      <td>...</td>\n",
       "      <td>...</td>\n",
       "      <td>...</td>\n",
       "      <td>...</td>\n",
       "      <td>...</td>\n",
       "      <td>...</td>\n",
       "      <td>...</td>\n",
       "      <td>...</td>\n",
       "      <td>...</td>\n",
       "    </tr>\n",
       "    <tr>\n",
       "      <th>1577</th>\n",
       "      <td>507</td>\n",
       "      <td>598</td>\n",
       "      <td>72929</td>\n",
       "      <td>23862.02113</td>\n",
       "      <td>39.903045</td>\n",
       "      <td>2386.202113</td>\n",
       "      <td>26448.37914</td>\n",
       "      <td>6.311118e+07</td>\n",
       "      <td>5289.675827</td>\n",
       "      <td>1.262224e+07</td>\n",
       "      <td>2644.837914</td>\n",
       "      <td>6.311118e+06</td>\n",
       "      <td>NaN</td>\n",
       "      <td>26448.37914</td>\n",
       "      <td>5289.675827</td>\n",
       "      <td>2644.837914</td>\n",
       "      <td>4</td>\n",
       "    </tr>\n",
       "    <tr>\n",
       "      <th>1578</th>\n",
       "      <td>636</td>\n",
       "      <td>877</td>\n",
       "      <td>1292</td>\n",
       "      <td>42260.24502</td>\n",
       "      <td>48.187281</td>\n",
       "      <td>4226.024502</td>\n",
       "      <td>31939.30321</td>\n",
       "      <td>1.349763e+08</td>\n",
       "      <td>6387.860642</td>\n",
       "      <td>2.699526e+07</td>\n",
       "      <td>3193.930321</td>\n",
       "      <td>1.349763e+07</td>\n",
       "      <td>NaN</td>\n",
       "      <td>31939.30321</td>\n",
       "      <td>6387.860642</td>\n",
       "      <td>3193.930321</td>\n",
       "      <td>2</td>\n",
       "    </tr>\n",
       "    <tr>\n",
       "      <th>1579</th>\n",
       "      <td>659</td>\n",
       "      <td>406</td>\n",
       "      <td>20329</td>\n",
       "      <td>16235.75225</td>\n",
       "      <td>39.989538</td>\n",
       "      <td>1623.575225</td>\n",
       "      <td>26505.70755</td>\n",
       "      <td>4.303401e+07</td>\n",
       "      <td>5301.141510</td>\n",
       "      <td>8.606802e+06</td>\n",
       "      <td>2650.570755</td>\n",
       "      <td>4.303401e+06</td>\n",
       "      <td>NaN</td>\n",
       "      <td>26505.70755</td>\n",
       "      <td>5301.141510</td>\n",
       "      <td>2650.570755</td>\n",
       "      <td>4</td>\n",
       "    </tr>\n",
       "    <tr>\n",
       "      <th>1580</th>\n",
       "      <td>539</td>\n",
       "      <td>350</td>\n",
       "      <td>119010</td>\n",
       "      <td>15166.47761</td>\n",
       "      <td>43.332793</td>\n",
       "      <td>1516.647761</td>\n",
       "      <td>28721.67106</td>\n",
       "      <td>4.356066e+07</td>\n",
       "      <td>5744.334211</td>\n",
       "      <td>8.712132e+06</td>\n",
       "      <td>2872.167106</td>\n",
       "      <td>4.356066e+06</td>\n",
       "      <td>NaN</td>\n",
       "      <td>28721.67106</td>\n",
       "      <td>5744.334211</td>\n",
       "      <td>2872.167106</td>\n",
       "      <td>4</td>\n",
       "    </tr>\n",
       "    <tr>\n",
       "      <th>1581</th>\n",
       "      <td>660</td>\n",
       "      <td>614</td>\n",
       "      <td>54461</td>\n",
       "      <td>30517.13555</td>\n",
       "      <td>49.702175</td>\n",
       "      <td>3051.713555</td>\n",
       "      <td>32943.39970</td>\n",
       "      <td>1.005338e+08</td>\n",
       "      <td>6588.679940</td>\n",
       "      <td>2.010676e+07</td>\n",
       "      <td>3294.339970</td>\n",
       "      <td>1.005338e+07</td>\n",
       "      <td>NaN</td>\n",
       "      <td>32943.39970</td>\n",
       "      <td>6588.679940</td>\n",
       "      <td>3294.339970</td>\n",
       "      <td>2</td>\n",
       "    </tr>\n",
       "  </tbody>\n",
       "</table>\n",
       "<p>1582 rows × 17 columns</p>\n",
       "</div>"
      ],
      "text/plain": [
       "      num_days  num_transactions  num_units  spent_money  avg_order_value  \\\n",
       "0          693               849       1010  30584.43638        36.024071   \n",
       "1          576               292        336  11638.26084        39.857058   \n",
       "2          667               624       1107  26139.02573        41.889464   \n",
       "3          413               210        269  11527.10832        54.890992   \n",
       "4          695               650        876  28095.09950        43.223230   \n",
       "...        ...               ...        ...          ...              ...   \n",
       "1577       507               598      72929  23862.02113        39.903045   \n",
       "1578       636               877       1292  42260.24502        48.187281   \n",
       "1579       659               406      20329  16235.75225        39.989538   \n",
       "1580       539               350     119010  15166.47761        43.332793   \n",
       "1581       660               614      54461  30517.13555        49.702175   \n",
       "\n",
       "      profit_margin         CLV1  cust_lifetime_value1         CLV5  \\\n",
       "0       3058.443638  23877.33272          7.302748e+07  4775.466545   \n",
       "1       1163.826084  26417.89776          3.074584e+07  5283.579552   \n",
       "2       2613.902573  27765.00951          7.257503e+07  5553.001902   \n",
       "3       1152.710832  36382.63080          4.193865e+07  7276.526159   \n",
       "4       2809.509950  28649.05082          8.048979e+07  5729.810164   \n",
       "...             ...          ...                   ...          ...   \n",
       "1577    2386.202113  26448.37914          6.311118e+07  5289.675827   \n",
       "1578    4226.024502  31939.30321          1.349763e+08  6387.860642   \n",
       "1579    1623.575225  26505.70755          4.303401e+07  5301.141510   \n",
       "1580    1516.647761  28721.67106          4.356066e+07  5744.334211   \n",
       "1581    3051.713555  32943.39970          1.005338e+08  6588.679940   \n",
       "\n",
       "      cust_lifetime_value5        CLV10  cust_lifetime_value10  Unnamed: 12  \\\n",
       "0             1.460550e+07  2387.733272           7.302748e+06          NaN   \n",
       "1             6.149168e+06  2641.789776           3.074584e+06          NaN   \n",
       "2             1.451501e+07  2776.500951           7.257503e+06          NaN   \n",
       "3             8.387731e+06  3638.263080           4.193865e+06          NaN   \n",
       "4             1.609796e+07  2864.905082           8.048979e+06          NaN   \n",
       "...                    ...          ...                    ...          ...   \n",
       "1577          1.262224e+07  2644.837914           6.311118e+06          NaN   \n",
       "1578          2.699526e+07  3193.930321           1.349763e+07          NaN   \n",
       "1579          8.606802e+06  2650.570755           4.303401e+06          NaN   \n",
       "1580          8.712132e+06  2872.167106           4.356066e+06          NaN   \n",
       "1581          2.010676e+07  3294.339970           1.005338e+07          NaN   \n",
       "\n",
       "           CLV1.1       CLV5.1      CLV10.1  cluster  \n",
       "0     23877.33272  4775.466545  2387.733272        0  \n",
       "1     26417.89776  5283.579552  2641.789776        4  \n",
       "2     27765.00951  5553.001902  2776.500951        4  \n",
       "3     36382.63080  7276.526159  3638.263080        2  \n",
       "4     28649.05082  5729.810164  2864.905082        4  \n",
       "...           ...          ...          ...      ...  \n",
       "1577  26448.37914  5289.675827  2644.837914        4  \n",
       "1578  31939.30321  6387.860642  3193.930321        2  \n",
       "1579  26505.70755  5301.141510  2650.570755        4  \n",
       "1580  28721.67106  5744.334211  2872.167106        4  \n",
       "1581  32943.39970  6588.679940  3294.339970        2  \n",
       "\n",
       "[1582 rows x 17 columns]"
      ]
     },
     "execution_count": 11,
     "metadata": {},
     "output_type": "execute_result"
    }
   ],
   "source": [
    "data"
   ]
  },
  {
   "cell_type": "code",
   "execution_count": 13,
   "metadata": {},
   "outputs": [
    {
     "name": "stderr",
     "output_type": "stream",
     "text": [
      "No handles with labels found to put in legend.\n"
     ]
    },
    {
     "data": {
      "text/plain": [
       "<matplotlib.legend.Legend at 0xae1336e940>"
      ]
     },
     "execution_count": 13,
     "metadata": {},
     "output_type": "execute_result"
    },
    {
     "data": {
      "image/png": "[encoded data removed]",
      "text/plain": [
       "<Figure size 432x288 with 1 Axes>"
      ]
     },
     "metadata": {
      "needs_background": "light"
     },
     "output_type": "display_data"
    }
   ],
   "source": [
    "data1=data[data.cluster==0]\n",
    "data2=data[data.cluster==1]\n",
    "data3=data[data.cluster==2]\n",
    "data4=data[data.cluster==3]\n",
    "data5=data[data.cluster==4]\n",
    "\n",
    "plt.scatter(data1.CLV5,data1['CLV5'],color=\"green\")\n",
    "plt.scatter(data2.CLV5,data2['CLV5'],color=\"blue\")\n",
    "plt.scatter(data3.CLV5,data3['CLV5'],color=\"red\")\n",
    "plt.scatter(data2.CLV5,data2['CLV5'],color=\"yellow\")\n",
    "plt.scatter(data3.CLV5,data3['CLV5'],color=\"black\")\n",
    "\n",
    "plt.xlabel('Age')\n",
    "plt.ylabel('Income')\n",
    "plt.legend()"
   ]
  },
  {
   "cell_type": "code",
   "execution_count": 14,
   "metadata": {},
   "outputs": [],
   "source": [
    "#ELBOW METHOD\n",
    "\n",
    "k_range=range(1,10)\n",
    "sse=[]\n",
    "\n",
    "for k in k_range:\n",
    "    km=KMeans(n_clusters=k)\n",
    "    km.fit(data[['CLV5']])\n",
    "    sse.append(km.inertia_)#inertia within cluster sum of squared error"
   ]
  },
  {
   "cell_type": "code",
   "execution_count": 15,
   "metadata": {},
   "outputs": [
    {
     "data": {
      "text/plain": [
       "[3804248787.394895,\n",
       " 1934361929.8118715,\n",
       " 1081555189.901512,\n",
       " 694525893.0958512,\n",
       " 440915107.895329,\n",
       " 314300139.6992912,\n",
       " 233504866.5819523,\n",
       " 180894496.19723314,\n",
       " 142467041.48523355]"
      ]
     },
     "execution_count": 15,
     "metadata": {},
     "output_type": "execute_result"
    }
   ],
   "source": [
    "sse"
   ]
  },
  {
   "cell_type": "code",
   "execution_count": 16,
   "metadata": {},
   "outputs": [
    {
     "data": {
      "text/plain": [
       "[<matplotlib.lines.Line2D at 0xae0cee3580>]"
      ]
     },
     "execution_count": 16,
     "metadata": {},
     "output_type": "execute_result"
    },
    {
     "data": {
      "image/png": "[encoded data removed]",
      "text/plain": [
       "<Figure size 432x288 with 1 Axes>"
      ]
     },
     "metadata": {
      "needs_background": "light"
     },
     "output_type": "display_data"
    }
   ],
   "source": [
    "plt.plot(k_range,sse)"
   ]
  },
  {
   "cell_type": "code",
   "execution_count": 17,
   "metadata": {},
   "outputs": [
    {
     "data": {
      "text/plain": [
       "KMeans(n_clusters=3)"
      ]
     },
     "execution_count": 17,
     "metadata": {},
     "output_type": "execute_result"
    }
   ],
   "source": [
    "km=KMeans(n_clusters=3)\n",
    "km"
   ]
  },
  {
   "cell_type": "code",
   "execution_count": 18,
   "metadata": {},
   "outputs": [],
   "source": [
    "Y_pred=km.fit_predict(data[['CLV5']])#List of list hence double bracket"
   ]
  },
  {
   "cell_type": "code",
   "execution_count": 19,
   "metadata": {},
   "outputs": [
    {
     "data": {
      "text/plain": [
       "array([2, 2, 2, ..., 2, 0, 0])"
      ]
     },
     "execution_count": 19,
     "metadata": {},
     "output_type": "execute_result"
    }
   ],
   "source": [
    "Y_pred"
   ]
  },
  {
   "cell_type": "code",
   "execution_count": 20,
   "metadata": {},
   "outputs": [
    {
     "data": {
      "text/plain": [
       "<matplotlib.collections.PathCollection at 0xae13942340>"
      ]
     },
     "execution_count": 20,
     "metadata": {},
     "output_type": "execute_result"
    },
    {
     "data": {
      "image/png": "[encoded data removed]",
      "text/plain": [
       "<Figure size 432x288 with 1 Axes>"
      ]
     },
     "metadata": {
      "needs_background": "light"
     },
     "output_type": "display_data"
    }
   ],
   "source": [
    "data1=data[data.cluster==0]\n",
    "data2=data[data.cluster==1]\n",
    "data3=data[data.cluster==2]\n",
    "\n",
    "plt.scatter(data1.CLV5,data1['CLV5'],color=\"green\")\n",
    "plt.scatter(data2.CLV5,data2['CLV5'],color=\"blue\")\n",
    "plt.scatter(data3.CLV5,data3['CLV5'],color=\"red\")"
   ]
  },
  {
   "cell_type": "code",
   "execution_count": 21,
   "metadata": {},
   "outputs": [],
   "source": [
    "data['cluster']=Y_pred"
   ]
  },
  {
   "cell_type": "code",
   "execution_count": 22,
   "metadata": {},
   "outputs": [
    {
     "data": {
      "text/html": [
       "<div>\n",
       "<style scoped>\n",
       "    .dataframe tbody tr th:only-of-type {\n",
       "        vertical-align: middle;\n",
       "    }\n",
       "\n",
       "    .dataframe tbody tr th {\n",
       "        vertical-align: top;\n",
       "    }\n",
       "\n",
       "    .dataframe thead th {\n",
       "        text-align: right;\n",
       "    }\n",
       "</style>\n",
       "<table border=\"1\" class=\"dataframe\">\n",
       "  <thead>\n",
       "    <tr style=\"text-align: right;\">\n",
       "      <th></th>\n",
       "      <th>num_days</th>\n",
       "      <th>num_transactions</th>\n",
       "      <th>num_units</th>\n",
       "      <th>spent_money</th>\n",
       "      <th>avg_order_value</th>\n",
       "      <th>profit_margin</th>\n",
       "      <th>CLV1</th>\n",
       "      <th>cust_lifetime_value1</th>\n",
       "      <th>CLV5</th>\n",
       "      <th>cust_lifetime_value5</th>\n",
       "      <th>CLV10</th>\n",
       "      <th>cust_lifetime_value10</th>\n",
       "      <th>Unnamed: 12</th>\n",
       "      <th>CLV1.1</th>\n",
       "      <th>CLV5.1</th>\n",
       "      <th>CLV10.1</th>\n",
       "      <th>cluster</th>\n",
       "    </tr>\n",
       "  </thead>\n",
       "  <tbody>\n",
       "    <tr>\n",
       "      <th>0</th>\n",
       "      <td>693</td>\n",
       "      <td>849</td>\n",
       "      <td>1010</td>\n",
       "      <td>30584.43638</td>\n",
       "      <td>36.024071</td>\n",
       "      <td>3058.443638</td>\n",
       "      <td>23877.33272</td>\n",
       "      <td>73027476.36</td>\n",
       "      <td>4775.466545</td>\n",
       "      <td>1.460550e+07</td>\n",
       "      <td>2387.733272</td>\n",
       "      <td>7302747.636</td>\n",
       "      <td>NaN</td>\n",
       "      <td>23877.33272</td>\n",
       "      <td>4775.466545</td>\n",
       "      <td>2387.733272</td>\n",
       "      <td>2</td>\n",
       "    </tr>\n",
       "    <tr>\n",
       "      <th>1</th>\n",
       "      <td>576</td>\n",
       "      <td>292</td>\n",
       "      <td>336</td>\n",
       "      <td>11638.26084</td>\n",
       "      <td>39.857058</td>\n",
       "      <td>1163.826084</td>\n",
       "      <td>26417.89776</td>\n",
       "      <td>30745838.50</td>\n",
       "      <td>5283.579552</td>\n",
       "      <td>6.149168e+06</td>\n",
       "      <td>2641.789776</td>\n",
       "      <td>3074583.850</td>\n",
       "      <td>NaN</td>\n",
       "      <td>26417.89776</td>\n",
       "      <td>5283.579552</td>\n",
       "      <td>2641.789776</td>\n",
       "      <td>2</td>\n",
       "    </tr>\n",
       "    <tr>\n",
       "      <th>2</th>\n",
       "      <td>667</td>\n",
       "      <td>624</td>\n",
       "      <td>1107</td>\n",
       "      <td>26139.02573</td>\n",
       "      <td>41.889464</td>\n",
       "      <td>2613.902573</td>\n",
       "      <td>27765.00951</td>\n",
       "      <td>72575029.81</td>\n",
       "      <td>5553.001902</td>\n",
       "      <td>1.451501e+07</td>\n",
       "      <td>2776.500951</td>\n",
       "      <td>7257502.981</td>\n",
       "      <td>NaN</td>\n",
       "      <td>27765.00951</td>\n",
       "      <td>5553.001902</td>\n",
       "      <td>2776.500951</td>\n",
       "      <td>2</td>\n",
       "    </tr>\n",
       "    <tr>\n",
       "      <th>3</th>\n",
       "      <td>413</td>\n",
       "      <td>210</td>\n",
       "      <td>269</td>\n",
       "      <td>11527.10832</td>\n",
       "      <td>54.890992</td>\n",
       "      <td>1152.710832</td>\n",
       "      <td>36382.63080</td>\n",
       "      <td>41938652.60</td>\n",
       "      <td>7276.526159</td>\n",
       "      <td>8.387731e+06</td>\n",
       "      <td>3638.263080</td>\n",
       "      <td>4193865.260</td>\n",
       "      <td>NaN</td>\n",
       "      <td>36382.63080</td>\n",
       "      <td>7276.526159</td>\n",
       "      <td>3638.263080</td>\n",
       "      <td>0</td>\n",
       "    </tr>\n",
       "    <tr>\n",
       "      <th>4</th>\n",
       "      <td>695</td>\n",
       "      <td>650</td>\n",
       "      <td>876</td>\n",
       "      <td>28095.09950</td>\n",
       "      <td>43.223230</td>\n",
       "      <td>2809.509950</td>\n",
       "      <td>28649.05082</td>\n",
       "      <td>80489793.35</td>\n",
       "      <td>5729.810164</td>\n",
       "      <td>1.609796e+07</td>\n",
       "      <td>2864.905082</td>\n",
       "      <td>8048979.335</td>\n",
       "      <td>NaN</td>\n",
       "      <td>28649.05082</td>\n",
       "      <td>5729.810164</td>\n",
       "      <td>2864.905082</td>\n",
       "      <td>0</td>\n",
       "    </tr>\n",
       "  </tbody>\n",
       "</table>\n",
       "</div>"
      ],
      "text/plain": [
       "   num_days  num_transactions  num_units  spent_money  avg_order_value  \\\n",
       "0       693               849       1010  30584.43638        36.024071   \n",
       "1       576               292        336  11638.26084        39.857058   \n",
       "2       667               624       1107  26139.02573        41.889464   \n",
       "3       413               210        269  11527.10832        54.890992   \n",
       "4       695               650        876  28095.09950        43.223230   \n",
       "\n",
       "   profit_margin         CLV1  cust_lifetime_value1         CLV5  \\\n",
       "0    3058.443638  23877.33272           73027476.36  4775.466545   \n",
       "1    1163.826084  26417.89776           30745838.50  5283.579552   \n",
       "2    2613.902573  27765.00951           72575029.81  5553.001902   \n",
       "3    1152.710832  36382.63080           41938652.60  7276.526159   \n",
       "4    2809.509950  28649.05082           80489793.35  5729.810164   \n",
       "\n",
       "   cust_lifetime_value5        CLV10  cust_lifetime_value10  Unnamed: 12  \\\n",
       "0          1.460550e+07  2387.733272            7302747.636          NaN   \n",
       "1          6.149168e+06  2641.789776            3074583.850          NaN   \n",
       "2          1.451501e+07  2776.500951            7257502.981          NaN   \n",
       "3          8.387731e+06  3638.263080            4193865.260          NaN   \n",
       "4          1.609796e+07  2864.905082            8048979.335          NaN   \n",
       "\n",
       "        CLV1.1       CLV5.1      CLV10.1  cluster  \n",
       "0  23877.33272  4775.466545  2387.733272        2  \n",
       "1  26417.89776  5283.579552  2641.789776        2  \n",
       "2  27765.00951  5553.001902  2776.500951        2  \n",
       "3  36382.63080  7276.526159  3638.263080        0  \n",
       "4  28649.05082  5729.810164  2864.905082        0  "
      ]
     },
     "execution_count": 22,
     "metadata": {},
     "output_type": "execute_result"
    }
   ],
   "source": [
    "data.head()"
   ]
  },
  {
   "cell_type": "code",
   "execution_count": 23,
   "metadata": {},
   "outputs": [
    {
     "data": {
      "text/plain": [
       "2    865\n",
       "0    677\n",
       "1     40\n",
       "Name: cluster, dtype: int64"
      ]
     },
     "execution_count": 23,
     "metadata": {},
     "output_type": "execute_result"
    }
   ],
   "source": [
    "data['cluster'].value_counts()"
   ]
  },
  {
   "cell_type": "code",
   "execution_count": 27,
   "metadata": {},
   "outputs": [],
   "source": [
    "data.drop(['CLV1','cust_lifetime_value1','cust_lifetime_value5','cust_lifetime_value10','Unnamed: 12','CLV1.1','CLV5.1','CLV10.1'],axis=1,inplace=True)"
   ]
  },
  {
   "cell_type": "code",
   "execution_count": 28,
   "metadata": {},
   "outputs": [],
   "source": [
    "data.to_csv(\"cltv1_5_10-10-with_clusters.csv\")"
   ]
  },
  {
   "cell_type": "code",
   "execution_count": null,
   "metadata": {},
   "outputs": [],
   "source": []
  }
 ],
 "metadata": {
  "kernelspec": {
   "display_name": "Python 3",
   "language": "python",
   "name": "python3"
  },
  "language_info": {
   "codemirror_mode": {
    "name": "ipython",
    "version": 3
   },
   "file_extension": ".py",
   "mimetype": "text/x-python",
   "name": "python",
   "nbconvert_exporter": "python",
   "pygments_lexer": "ipython3",
   "version": "3.8.3"
  }
 },
 "nbformat": 4,
 "nbformat_minor": 4
}
